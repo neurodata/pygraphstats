{
 "cells": [
  {
   "cell_type": "markdown",
   "metadata": {},
   "source": [
    "# Hierarchical stochastic block model (HSBM)"
   ]
  },
  {
   "cell_type": "code",
   "execution_count": null,
   "metadata": {},
   "outputs": [],
   "source": [
    "import numpy as np\n",
    "from graspologic.plot import heatmap"
   ]
  },
  {
   "cell_type": "markdown",
   "metadata": {},
   "source": [
    "An hierarchical stochastic block model (HSBM) consists of a hierarchy of stochastic block models (SBMs) where at each level, a graph can be considered as an SBM that is nested in a larger SBM (for details on SBM, please see the tutorial on SBM). The model can be useful for studying the community structure of data with a natural hierarchical structure. Similar to an SBM, an HSBM is defined by $K$, the number of blocks, $B$, a $K\\times K$ block-block connectivity matrix, $n$, the number of nodes in the graph, and $l$, the number of levels."
   ]
  },
  {
   "cell_type": "markdown",
   "metadata": {},
   "source": [
    "Let us consider a 2-level HSBM (undirected, no self-loops) made up of 2 SBMs either of which is composed of 2 smaller SBMs. Define the block-blcok connectivity matrices corresponding to the 2 SBMs at the coarser level as B1 and B2, respectively."
   ]
  },
  {
   "cell_type": "code",
   "execution_count": null,
   "metadata": {},
   "outputs": [],
   "source": [
    "B1 = np.array([[0.5, 0.1], [0.1, 0.6]])\n",
    "B2 = np.array([[0.8, 0.1], [0.1, 0.8]])"
   ]
  },
  {
   "cell_type": "code",
   "execution_count": null,
   "metadata": {},
   "outputs": [],
   "source": [
    "# synthetic data\n",
    "\n",
    "from graspologic.simulations import er_np, sbm\n",
    "from graspologic.models.base import _n_to_labels\n",
    "np.random.seed(9)\n",
    "\n",
    "# first generate an Erdos-Reyni (ER) model of 200 nodes \n",
    "# where the probability of an edge between any pair of nodes is 0.01\n",
    "# (see the tutorial on ER model for more details)\n",
    "n = np.array([100, 100]).astype(int)\n",
    "block_labels = _n_to_labels(n)\n",
    "n_verts = np.sum(n)\n",
    "global_p = 0.01\n",
    "graph = er_np(n_verts, global_p)\n",
    "\n",
    "# then add 2 equivalent blocks to the ER graph either of which is an SBM \n",
    "# with a block connectivity matrix defined before\n",
    "prop = np.array([[0.5, 0.5], [0.5, 0.5]])\n",
    "B_list = [B1, B2]\n",
    "for i, n_sub_verts in enumerate(n):\n",
    "    p = prop[i, :]\n",
    "    n_vec = (n_sub_verts * p).astype(int)\n",
    "    B = B_list[i]\n",
    "    subgraph = sbm(n_vec, B)\n",
    "    inds = block_labels == i\n",
    "    graph[np.ix_(inds, inds)] = subgraph\n",
    "\n",
    "heatmap(graph, title=\"Synthetic HSBM\")"
   ]
  },
  {
   "cell_type": "code",
   "execution_count": null,
   "metadata": {},
   "outputs": [],
   "source": [
    "# fit an HSBM model to the synthetic graph\n",
    "\n",
    "np.random.seed(1)\n",
    "hsbm = HSBMEstimator(max_level=2)\n",
    "hsbm.fit(graph)"
   ]
  },
  {
   "cell_type": "code",
   "execution_count": null,
   "metadata": {},
   "outputs": [],
   "source": [
    "# compute the parameters for the first level\n",
    "hsbm.compute_model_params(graph, 1)\n",
    "# plot the probability matrix\n",
    "heatmap(\n",
    "    hsbm.p_mat_, vmin=0, vmax=1, title=\"HSBM probability matrix at level 1\", font_scale=1.5\n",
    ")"
   ]
  },
  {
   "cell_type": "code",
   "execution_count": null,
   "metadata": {},
   "outputs": [],
   "source": [
    "# similarly for the second level\n",
    "hsbm.compute_model_params(graph, 2)\n",
    "heatmap(\n",
    "    hsbm.p_mat_, vmin=0, vmax=1, title=\"HSBM probability matrix at level 2\", font_scale=1.5\n",
    ")"
   ]
  },
  {
   "cell_type": "code",
   "execution_count": null,
   "metadata": {},
   "outputs": [],
   "source": [
    "# generate a sample graph which has the structure of the second level of the model\n",
    "heatmap(\n",
    "    hsbm.sample()[0], title=\"HSBM sample at level 2\", font_scale=1.5\n",
    ")"
   ]
  }
 ],
 "metadata": {
  "language_info": {
   "codemirror_mode": {
    "name": "ipython",
    "version": 3
   },
   "file_extension": ".py",
   "mimetype": "text/x-python",
   "name": "python",
   "nbconvert_exporter": "python",
   "pygments_lexer": "ipython3",
   "version": "3.7.6-final"
  },
  "orig_nbformat": 2,
  "kernelspec": {
   "name": "python37664bittlmaggotconda86ae814882bc46f5903bae6a1705375f",
   "display_name": "Python 3.7.6 64-bit ('TL_maggot': conda)"
  }
 },
 "nbformat": 4,
 "nbformat_minor": 2
}